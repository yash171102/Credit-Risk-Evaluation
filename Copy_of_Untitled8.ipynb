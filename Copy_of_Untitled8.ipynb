{
  "cells": [
    {
      "cell_type": "markdown",
      "metadata": {
        "id": "view-in-github",
        "colab_type": "text"
      },
      "source": [
        "<a href=\"https://colab.research.google.com/github/yash171102/Credit-Risk-Evaluation/blob/main/Copy_of_Untitled8.ipynb\" target=\"_parent\"><img src=\"https://colab.research.google.com/assets/colab-badge.svg\" alt=\"Open In Colab\"/></a>"
      ]
    },
    {
      "cell_type": "code",
      "execution_count": null,
      "metadata": {
        "colab": {
          "base_uri": "https://localhost:8080/",
          "height": 73
        },
        "id": "zH1jPSTGX9o7",
        "outputId": "456abae9-ed49-4f9f-807f-2b07d6513e63"
      },
      "outputs": [
        {
          "output_type": "display_data",
          "data": {
            "text/plain": [
              "<IPython.core.display.HTML object>"
            ],
            "text/html": [
              "\n",
              "     <input type=\"file\" id=\"files-54e2631d-9731-4711-94db-07bafcb732ed\" name=\"files[]\" multiple disabled\n",
              "        style=\"border:none\" />\n",
              "     <output id=\"result-54e2631d-9731-4711-94db-07bafcb732ed\">\n",
              "      Upload widget is only available when the cell has been executed in the\n",
              "      current browser session. Please rerun this cell to enable.\n",
              "      </output>\n",
              "      <script>// Copyright 2017 Google LLC\n",
              "//\n",
              "// Licensed under the Apache License, Version 2.0 (the \"License\");\n",
              "// you may not use this file except in compliance with the License.\n",
              "// You may obtain a copy of the License at\n",
              "//\n",
              "//      http://www.apache.org/licenses/LICENSE-2.0\n",
              "//\n",
              "// Unless required by applicable law or agreed to in writing, software\n",
              "// distributed under the License is distributed on an \"AS IS\" BASIS,\n",
              "// WITHOUT WARRANTIES OR CONDITIONS OF ANY KIND, either express or implied.\n",
              "// See the License for the specific language governing permissions and\n",
              "// limitations under the License.\n",
              "\n",
              "/**\n",
              " * @fileoverview Helpers for google.colab Python module.\n",
              " */\n",
              "(function(scope) {\n",
              "function span(text, styleAttributes = {}) {\n",
              "  const element = document.createElement('span');\n",
              "  element.textContent = text;\n",
              "  for (const key of Object.keys(styleAttributes)) {\n",
              "    element.style[key] = styleAttributes[key];\n",
              "  }\n",
              "  return element;\n",
              "}\n",
              "\n",
              "// Max number of bytes which will be uploaded at a time.\n",
              "const MAX_PAYLOAD_SIZE = 100 * 1024;\n",
              "\n",
              "function _uploadFiles(inputId, outputId) {\n",
              "  const steps = uploadFilesStep(inputId, outputId);\n",
              "  const outputElement = document.getElementById(outputId);\n",
              "  // Cache steps on the outputElement to make it available for the next call\n",
              "  // to uploadFilesContinue from Python.\n",
              "  outputElement.steps = steps;\n",
              "\n",
              "  return _uploadFilesContinue(outputId);\n",
              "}\n",
              "\n",
              "// This is roughly an async generator (not supported in the browser yet),\n",
              "// where there are multiple asynchronous steps and the Python side is going\n",
              "// to poll for completion of each step.\n",
              "// This uses a Promise to block the python side on completion of each step,\n",
              "// then passes the result of the previous step as the input to the next step.\n",
              "function _uploadFilesContinue(outputId) {\n",
              "  const outputElement = document.getElementById(outputId);\n",
              "  const steps = outputElement.steps;\n",
              "\n",
              "  const next = steps.next(outputElement.lastPromiseValue);\n",
              "  return Promise.resolve(next.value.promise).then((value) => {\n",
              "    // Cache the last promise value to make it available to the next\n",
              "    // step of the generator.\n",
              "    outputElement.lastPromiseValue = value;\n",
              "    return next.value.response;\n",
              "  });\n",
              "}\n",
              "\n",
              "/**\n",
              " * Generator function which is called between each async step of the upload\n",
              " * process.\n",
              " * @param {string} inputId Element ID of the input file picker element.\n",
              " * @param {string} outputId Element ID of the output display.\n",
              " * @return {!Iterable<!Object>} Iterable of next steps.\n",
              " */\n",
              "function* uploadFilesStep(inputId, outputId) {\n",
              "  const inputElement = document.getElementById(inputId);\n",
              "  inputElement.disabled = false;\n",
              "\n",
              "  const outputElement = document.getElementById(outputId);\n",
              "  outputElement.innerHTML = '';\n",
              "\n",
              "  const pickedPromise = new Promise((resolve) => {\n",
              "    inputElement.addEventListener('change', (e) => {\n",
              "      resolve(e.target.files);\n",
              "    });\n",
              "  });\n",
              "\n",
              "  const cancel = document.createElement('button');\n",
              "  inputElement.parentElement.appendChild(cancel);\n",
              "  cancel.textContent = 'Cancel upload';\n",
              "  const cancelPromise = new Promise((resolve) => {\n",
              "    cancel.onclick = () => {\n",
              "      resolve(null);\n",
              "    };\n",
              "  });\n",
              "\n",
              "  // Wait for the user to pick the files.\n",
              "  const files = yield {\n",
              "    promise: Promise.race([pickedPromise, cancelPromise]),\n",
              "    response: {\n",
              "      action: 'starting',\n",
              "    }\n",
              "  };\n",
              "\n",
              "  cancel.remove();\n",
              "\n",
              "  // Disable the input element since further picks are not allowed.\n",
              "  inputElement.disabled = true;\n",
              "\n",
              "  if (!files) {\n",
              "    return {\n",
              "      response: {\n",
              "        action: 'complete',\n",
              "      }\n",
              "    };\n",
              "  }\n",
              "\n",
              "  for (const file of files) {\n",
              "    const li = document.createElement('li');\n",
              "    li.append(span(file.name, {fontWeight: 'bold'}));\n",
              "    li.append(span(\n",
              "        `(${file.type || 'n/a'}) - ${file.size} bytes, ` +\n",
              "        `last modified: ${\n",
              "            file.lastModifiedDate ? file.lastModifiedDate.toLocaleDateString() :\n",
              "                                    'n/a'} - `));\n",
              "    const percent = span('0% done');\n",
              "    li.appendChild(percent);\n",
              "\n",
              "    outputElement.appendChild(li);\n",
              "\n",
              "    const fileDataPromise = new Promise((resolve) => {\n",
              "      const reader = new FileReader();\n",
              "      reader.onload = (e) => {\n",
              "        resolve(e.target.result);\n",
              "      };\n",
              "      reader.readAsArrayBuffer(file);\n",
              "    });\n",
              "    // Wait for the data to be ready.\n",
              "    let fileData = yield {\n",
              "      promise: fileDataPromise,\n",
              "      response: {\n",
              "        action: 'continue',\n",
              "      }\n",
              "    };\n",
              "\n",
              "    // Use a chunked sending to avoid message size limits. See b/62115660.\n",
              "    let position = 0;\n",
              "    do {\n",
              "      const length = Math.min(fileData.byteLength - position, MAX_PAYLOAD_SIZE);\n",
              "      const chunk = new Uint8Array(fileData, position, length);\n",
              "      position += length;\n",
              "\n",
              "      const base64 = btoa(String.fromCharCode.apply(null, chunk));\n",
              "      yield {\n",
              "        response: {\n",
              "          action: 'append',\n",
              "          file: file.name,\n",
              "          data: base64,\n",
              "        },\n",
              "      };\n",
              "\n",
              "      let percentDone = fileData.byteLength === 0 ?\n",
              "          100 :\n",
              "          Math.round((position / fileData.byteLength) * 100);\n",
              "      percent.textContent = `${percentDone}% done`;\n",
              "\n",
              "    } while (position < fileData.byteLength);\n",
              "  }\n",
              "\n",
              "  // All done.\n",
              "  yield {\n",
              "    response: {\n",
              "      action: 'complete',\n",
              "    }\n",
              "  };\n",
              "}\n",
              "\n",
              "scope.google = scope.google || {};\n",
              "scope.google.colab = scope.google.colab || {};\n",
              "scope.google.colab._files = {\n",
              "  _uploadFiles,\n",
              "  _uploadFilesContinue,\n",
              "};\n",
              "})(self);\n",
              "</script> "
            ]
          },
          "metadata": {}
        },
        {
          "output_type": "stream",
          "name": "stdout",
          "text": [
            "Saving credit_risk_dataset.csv to credit_risk_dataset.csv\n"
          ]
        }
      ],
      "source": [
        "\n",
        "from google.colab import files\n",
        "\n",
        "\n",
        "uploaded = files.upload()"
      ]
    },
    {
      "cell_type": "code",
      "source": [
        "from google.colab import drive\n",
        "drive.mount('/content/drive')"
      ],
      "metadata": {
        "id": "O06zs-u_vyX2"
      },
      "execution_count": null,
      "outputs": []
    },
    {
      "cell_type": "code",
      "execution_count": null,
      "metadata": {
        "colab": {
          "base_uri": "https://localhost:8080/"
        },
        "id": "22EuvuY_X-dB",
        "outputId": "e0da611b-0af2-42cb-ccbf-5375b9a3e675"
      },
      "outputs": [
        {
          "output_type": "stream",
          "name": "stdout",
          "text": [
            "   person_age  person_income person_home_ownership  person_emp_length  \\\n",
            "0          22          59000                  RENT              123.0   \n",
            "1          21           9600                   OWN                5.0   \n",
            "2          25           9600              MORTGAGE                1.0   \n",
            "3          23          65500                  RENT                4.0   \n",
            "4          24          54400                  RENT                8.0   \n",
            "\n",
            "  loan_intent loan_grade  loan_amnt  loan_int_rate  loan_status  \\\n",
            "0    PERSONAL          D      35000          16.02            1   \n",
            "1   EDUCATION          B       1000          11.14            0   \n",
            "2     MEDICAL          C       5500          12.87            1   \n",
            "3     MEDICAL          C      35000          15.23            1   \n",
            "4     MEDICAL          C      35000          14.27            1   \n",
            "\n",
            "   loan_percent_income cb_person_default_on_file  cb_person_cred_hist_length  \n",
            "0                 0.59                         Y                           3  \n",
            "1                 0.10                         N                           2  \n",
            "2                 0.57                         N                           3  \n",
            "3                 0.53                         N                           2  \n",
            "4                 0.55                         Y                           4  \n"
          ]
        }
      ],
      "source": [
        "import pandas as pd\n",
        "import numpy as np\n",
        "import matplotlib.pyplot as plt\n",
        "df=pd.read_csv('credit_risk_dataset.csv')\n",
        "print(df.head(5))"
      ]
    },
    {
      "cell_type": "code",
      "source": [
        "df.info()"
      ],
      "metadata": {
        "colab": {
          "base_uri": "https://localhost:8080/"
        },
        "id": "-Fr_MNty8YJl",
        "outputId": "d1663f32-99d2-4fed-847b-d1d2fa77396a"
      },
      "execution_count": null,
      "outputs": [
        {
          "output_type": "stream",
          "name": "stdout",
          "text": [
            "<class 'pandas.core.frame.DataFrame'>\n",
            "RangeIndex: 32581 entries, 0 to 32580\n",
            "Data columns (total 12 columns):\n",
            " #   Column                      Non-Null Count  Dtype  \n",
            "---  ------                      --------------  -----  \n",
            " 0   person_age                  32581 non-null  int64  \n",
            " 1   person_income               32581 non-null  int64  \n",
            " 2   person_home_ownership       32581 non-null  object \n",
            " 3   person_emp_length           31686 non-null  float64\n",
            " 4   loan_intent                 32581 non-null  object \n",
            " 5   loan_grade                  32581 non-null  object \n",
            " 6   loan_amnt                   32581 non-null  int64  \n",
            " 7   loan_int_rate               29465 non-null  float64\n",
            " 8   loan_status                 32581 non-null  int64  \n",
            " 9   loan_percent_income         32581 non-null  float64\n",
            " 10  cb_person_default_on_file   32581 non-null  object \n",
            " 11  cb_person_cred_hist_length  32581 non-null  int64  \n",
            "dtypes: float64(3), int64(5), object(4)\n",
            "memory usage: 3.0+ MB\n"
          ]
        }
      ]
    },
    {
      "cell_type": "code",
      "execution_count": null,
      "metadata": {
        "id": "lvWsObzIYcBK"
      },
      "outputs": [],
      "source": [
        "# Remove duplicates\n",
        "df = df.drop_duplicates()"
      ]
    },
    {
      "cell_type": "code",
      "execution_count": null,
      "metadata": {
        "colab": {
          "base_uri": "https://localhost:8080/"
        },
        "id": "dN0jgcluYxrO",
        "outputId": "ec97c69b-0fb6-470e-c373-bb9660c4ccfe"
      },
      "outputs": [
        {
          "output_type": "stream",
          "name": "stdout",
          "text": [
            "       person_age  person_income person_home_ownership  person_emp_length  \\\n",
            "0              22          59000                  RENT              123.0   \n",
            "1              21           9600                   OWN                5.0   \n",
            "2              25           9600              MORTGAGE                1.0   \n",
            "3              23          65500                  RENT                4.0   \n",
            "4              24          54400                  RENT                8.0   \n",
            "...           ...            ...                   ...                ...   \n",
            "32576          57          53000              MORTGAGE                1.0   \n",
            "32577          54         120000              MORTGAGE                4.0   \n",
            "32578          65          76000                  RENT                3.0   \n",
            "32579          56         150000              MORTGAGE                5.0   \n",
            "32580          66          42000                  RENT                2.0   \n",
            "\n",
            "           loan_intent loan_grade  loan_amnt  loan_int_rate  loan_status  \\\n",
            "0             PERSONAL          D      35000          16.02            1   \n",
            "1            EDUCATION          B       1000          11.14            0   \n",
            "2              MEDICAL          C       5500          12.87            1   \n",
            "3              MEDICAL          C      35000          15.23            1   \n",
            "4              MEDICAL          C      35000          14.27            1   \n",
            "...                ...        ...        ...            ...          ...   \n",
            "32576         PERSONAL          C       5800          13.16            0   \n",
            "32577         PERSONAL          A      17625           7.49            0   \n",
            "32578  HOMEIMPROVEMENT          B      35000          10.99            1   \n",
            "32579         PERSONAL          B      15000          11.48            0   \n",
            "32580          MEDICAL          B       6475           9.99            0   \n",
            "\n",
            "       loan_percent_income cb_person_default_on_file  \\\n",
            "0                     0.59                         Y   \n",
            "1                     0.10                         N   \n",
            "2                     0.57                         N   \n",
            "3                     0.53                         N   \n",
            "4                     0.55                         Y   \n",
            "...                    ...                       ...   \n",
            "32576                 0.11                         N   \n",
            "32577                 0.15                         N   \n",
            "32578                 0.46                         N   \n",
            "32579                 0.10                         N   \n",
            "32580                 0.15                         N   \n",
            "\n",
            "       cb_person_cred_hist_length  \n",
            "0                               3  \n",
            "1                               2  \n",
            "2                               3  \n",
            "3                               2  \n",
            "4                               4  \n",
            "...                           ...  \n",
            "32576                          30  \n",
            "32577                          19  \n",
            "32578                          28  \n",
            "32579                          26  \n",
            "32580                          30  \n",
            "\n",
            "[32416 rows x 12 columns]\n"
          ]
        }
      ],
      "source": [
        "print(df)"
      ]
    },
    {
      "cell_type": "code",
      "execution_count": null,
      "metadata": {
        "id": "x0ZRterPY0d3"
      },
      "outputs": [],
      "source": [
        "# Remove rows with missing values\n",
        "df = df.dropna()"
      ]
    },
    {
      "cell_type": "code",
      "execution_count": null,
      "metadata": {
        "colab": {
          "base_uri": "https://localhost:8080/"
        },
        "id": "anLkd2H0Y_7n",
        "outputId": "8c6eef91-7d70-4fa7-a245-6a8373eac04c"
      },
      "outputs": [
        {
          "output_type": "stream",
          "name": "stdout",
          "text": [
            "       person_age  person_income person_home_ownership  person_emp_length  \\\n",
            "0              22          59000                  RENT              123.0   \n",
            "1              21           9600                   OWN                5.0   \n",
            "2              25           9600              MORTGAGE                1.0   \n",
            "3              23          65500                  RENT                4.0   \n",
            "4              24          54400                  RENT                8.0   \n",
            "...           ...            ...                   ...                ...   \n",
            "32576          57          53000              MORTGAGE                1.0   \n",
            "32577          54         120000              MORTGAGE                4.0   \n",
            "32578          65          76000                  RENT                3.0   \n",
            "32579          56         150000              MORTGAGE                5.0   \n",
            "32580          66          42000                  RENT                2.0   \n",
            "\n",
            "           loan_intent loan_grade  loan_amnt  loan_int_rate  loan_status  \\\n",
            "0             PERSONAL          D      35000          16.02            1   \n",
            "1            EDUCATION          B       1000          11.14            0   \n",
            "2              MEDICAL          C       5500          12.87            1   \n",
            "3              MEDICAL          C      35000          15.23            1   \n",
            "4              MEDICAL          C      35000          14.27            1   \n",
            "...                ...        ...        ...            ...          ...   \n",
            "32576         PERSONAL          C       5800          13.16            0   \n",
            "32577         PERSONAL          A      17625           7.49            0   \n",
            "32578  HOMEIMPROVEMENT          B      35000          10.99            1   \n",
            "32579         PERSONAL          B      15000          11.48            0   \n",
            "32580          MEDICAL          B       6475           9.99            0   \n",
            "\n",
            "       loan_percent_income cb_person_default_on_file  \\\n",
            "0                     0.59                         Y   \n",
            "1                     0.10                         N   \n",
            "2                     0.57                         N   \n",
            "3                     0.53                         N   \n",
            "4                     0.55                         Y   \n",
            "...                    ...                       ...   \n",
            "32576                 0.11                         N   \n",
            "32577                 0.15                         N   \n",
            "32578                 0.46                         N   \n",
            "32579                 0.10                         N   \n",
            "32580                 0.15                         N   \n",
            "\n",
            "       cb_person_cred_hist_length  \n",
            "0                               3  \n",
            "1                               2  \n",
            "2                               3  \n",
            "3                               2  \n",
            "4                               4  \n",
            "...                           ...  \n",
            "32576                          30  \n",
            "32577                          19  \n",
            "32578                          28  \n",
            "32579                          26  \n",
            "32580                          30  \n",
            "\n",
            "[28501 rows x 12 columns]\n"
          ]
        }
      ],
      "source": [
        "print(df)"
      ]
    },
    {
      "cell_type": "code",
      "execution_count": null,
      "metadata": {
        "colab": {
          "base_uri": "https://localhost:8080/"
        },
        "id": "4zor1r2rZCaE",
        "outputId": "49278cc6-1962-4ae7-da2e-8e5d0bdc8b06"
      },
      "outputs": [
        {
          "output_type": "stream",
          "name": "stdout",
          "text": [
            "person_age                    0\n",
            "person_income                 0\n",
            "person_home_ownership         0\n",
            "person_emp_length             0\n",
            "loan_intent                   0\n",
            "loan_grade                    0\n",
            "loan_amnt                     0\n",
            "loan_int_rate                 0\n",
            "loan_status                   0\n",
            "loan_percent_income           0\n",
            "cb_person_default_on_file     0\n",
            "cb_person_cred_hist_length    0\n",
            "dtype: int64\n"
          ]
        }
      ],
      "source": [
        "print(df.isnull().sum())"
      ]
    },
    {
      "cell_type": "code",
      "execution_count": null,
      "metadata": {
        "id": "N502qdHeZJBc"
      },
      "outputs": [],
      "source": [
        "# Rename 'loan_status' column to 'default'\n",
        "df = df.rename(columns={'loan_status': 'default'})\n",
        "\n"
      ]
    },
    {
      "cell_type": "code",
      "execution_count": null,
      "metadata": {
        "colab": {
          "base_uri": "https://localhost:8080/"
        },
        "id": "cB9WSakjZPq-",
        "outputId": "c65ec4fe-f02b-4d58-f036-e61ef24a0085"
      },
      "outputs": [
        {
          "output_type": "stream",
          "name": "stdout",
          "text": [
            "   person_age  person_income person_home_ownership  person_emp_length  \\\n",
            "0          22          59000                  RENT              123.0   \n",
            "1          21           9600                   OWN                5.0   \n",
            "2          25           9600              MORTGAGE                1.0   \n",
            "3          23          65500                  RENT                4.0   \n",
            "4          24          54400                  RENT                8.0   \n",
            "\n",
            "  loan_intent loan_grade  loan_amnt  loan_int_rate  default  \\\n",
            "0    PERSONAL          D      35000          16.02        1   \n",
            "1   EDUCATION          B       1000          11.14        0   \n",
            "2     MEDICAL          C       5500          12.87        1   \n",
            "3     MEDICAL          C      35000          15.23        1   \n",
            "4     MEDICAL          C      35000          14.27        1   \n",
            "\n",
            "   loan_percent_income cb_person_default_on_file  cb_person_cred_hist_length  \n",
            "0                 0.59                         Y                           3  \n",
            "1                 0.10                         N                           2  \n",
            "2                 0.57                         N                           3  \n",
            "3                 0.53                         N                           2  \n",
            "4                 0.55                         Y                           4  \n"
          ]
        }
      ],
      "source": [
        "print(df.head())"
      ]
    },
    {
      "cell_type": "code",
      "execution_count": null,
      "metadata": {
        "id": "tQG9I8oWZU6K"
      },
      "outputs": [],
      "source": [
        "numeric_data = df.select_dtypes(include=[np.number])"
      ]
    },
    {
      "cell_type": "code",
      "execution_count": null,
      "metadata": {
        "id": "st8SYC5oaiKs"
      },
      "outputs": [],
      "source": [
        "# Separate predictors and target variable\n",
        "x = numeric_data.drop(columns=[\"default\"])\n",
        "y = df[\"default\"]"
      ]
    },
    {
      "cell_type": "code",
      "execution_count": null,
      "metadata": {
        "id": "ig-xu4PVamaG"
      },
      "outputs": [],
      "source": [
        "# Calculate Z-scores for each numeric variable\n",
        "z_scores = (x - x.mean()) / x.std()"
      ]
    },
    {
      "cell_type": "code",
      "execution_count": null,
      "metadata": {
        "id": "pI0dJzVyaqLz"
      },
      "outputs": [],
      "source": [
        "# Identify outliers\n",
        "outliers = (z_scores > 3) | (z_scores < -3)"
      ]
    },
    {
      "cell_type": "code",
      "execution_count": null,
      "metadata": {
        "colab": {
          "base_uri": "https://localhost:8080/"
        },
        "id": "zE6zA888auDd",
        "outputId": "6698442c-90f5-45cc-b45b-58b9981fe706"
      },
      "outputs": [
        {
          "output_type": "stream",
          "name": "stdout",
          "text": [
            "       person_age  person_income person_home_ownership  person_emp_length  \\\n",
            "1              21           9600                   OWN                5.0   \n",
            "5              21           9900                   OWN                2.0   \n",
            "9              21          10000                   OWN                6.0   \n",
            "11             21          10000                   OWN                2.0   \n",
            "19             24          10800              MORTGAGE                8.0   \n",
            "...           ...            ...                   ...                ...   \n",
            "32290          37          90000              MORTGAGE               11.0   \n",
            "32292          38         200000              MORTGAGE                0.0   \n",
            "32293          38         110000              MORTGAGE                5.0   \n",
            "32295          42         101000              MORTGAGE                6.0   \n",
            "32296          40          52000                  RENT                2.0   \n",
            "\n",
            "             loan_intent loan_grade  loan_amnt  loan_int_rate  default  \\\n",
            "1              EDUCATION          B       1000          11.14        0   \n",
            "5                VENTURE          A       2500           7.14        1   \n",
            "9                VENTURE          D       1600          14.74        1   \n",
            "11       HOMEIMPROVEMENT          A       4500           8.63        1   \n",
            "19             EDUCATION          B       1750          10.99        1   \n",
            "...                  ...        ...        ...            ...      ...   \n",
            "32290  DEBTCONSOLIDATION          A       4000           6.62        0   \n",
            "32292  DEBTCONSOLIDATION          A       3000           7.68        0   \n",
            "32293            MEDICAL          B      16000          11.99        0   \n",
            "32295  DEBTCONSOLIDATION          F      25000          16.15        1   \n",
            "32296          EDUCATION          F      15000          18.62        1   \n",
            "\n",
            "       loan_percent_income cb_person_default_on_file  \\\n",
            "1                     0.10                         N   \n",
            "5                     0.25                         N   \n",
            "9                     0.16                         N   \n",
            "11                    0.45                         N   \n",
            "19                    0.16                         N   \n",
            "...                    ...                       ...   \n",
            "32290                 0.04                         N   \n",
            "32292                 0.01                         N   \n",
            "32293                 0.15                         N   \n",
            "32295                 0.25                         Y   \n",
            "32296                 0.29                         Y   \n",
            "\n",
            "       cb_person_cred_hist_length  \n",
            "1                               2  \n",
            "5                               2  \n",
            "9                               3  \n",
            "11                              2  \n",
            "19                              2  \n",
            "...                           ...  \n",
            "32290                          15  \n",
            "32292                          12  \n",
            "32293                          13  \n",
            "32295                          14  \n",
            "32296                          16  \n",
            "\n",
            "[26993 rows x 12 columns]\n"
          ]
        }
      ],
      "source": [
        "df = df[~outliers.any(axis=1)]\n",
        "print(df)"
      ]
    },
    {
      "cell_type": "code",
      "execution_count": null,
      "metadata": {
        "id": "PmHQQLuCawoL"
      },
      "outputs": [],
      "source": [
        "# Calculate percentage of non-default and default cases\n",
        "non_default_percentage = (df['default'] == 0).mean() * 100\n",
        "default_percentage = (df['default'] == 1).mean() * 100"
      ]
    },
    {
      "cell_type": "code",
      "execution_count": null,
      "metadata": {
        "colab": {
          "base_uri": "https://localhost:8080/"
        },
        "id": "BPtGK6PebdJ9",
        "outputId": "676ad671-56f9-4539-d116-daf3f222a01f"
      },
      "outputs": [
        {
          "output_type": "stream",
          "name": "stdout",
          "text": [
            "Non Default: 79.04 % of the dataset\n",
            "Default: 20.96 % of the dataset\n"
          ]
        }
      ],
      "source": [
        "print('Non Default:', round(non_default_percentage, 2), '% of the dataset')\n",
        "print('Default:', round(default_percentage, 2), '% of the dataset')"
      ]
    },
    {
      "cell_type": "code",
      "execution_count": null,
      "metadata": {
        "colab": {
          "base_uri": "https://localhost:8080/",
          "height": 410
        },
        "id": "w00SPESub2XA",
        "outputId": "155f8180-0578-44b2-fe39-cc595b8c0c06"
      },
      "outputs": [
        {
          "output_type": "display_data",
          "data": {
            "text/plain": [
              "<Figure size 800x400 with 1 Axes>"
            ],
            "image/png": "[encoded data removed]"
          },
          "metadata": {}
        }
      ],
      "source": [
        "# Plot countplot of loan status\n",
        "plt.figure(figsize=(8, 4))\n",
        "df['default'].value_counts().plot(kind='bar', color=['#66c2a5', '#fc8d62'])\n",
        "plt.xlabel(\"Loan Status Default\")\n",
        "plt.ylabel(\"Count\")\n",
        "plt.title(\"Countplot of Loan Status\")\n",
        "plt.xticks(ticks=[0, 1], labels=['Non Default', 'Default'], rotation=0)\n",
        "plt.show()"
      ]
    },
    {
      "cell_type": "code",
      "execution_count": null,
      "metadata": {
        "id": "8qMTpY8LcDq1"
      },
      "outputs": [],
      "source": [
        "from matplotlib.gridspec import GridSpec"
      ]
    },
    {
      "cell_type": "code",
      "execution_count": null,
      "metadata": {
        "id": "uTJYinilc0p8"
      },
      "outputs": [],
      "source": [
        "# Filter numeric columns\n",
        "numeric_cols = df.select_dtypes(include=['number']).columns"
      ]
    },
    {
      "cell_type": "code",
      "execution_count": null,
      "metadata": {
        "id": "VAdci6Pic4A0"
      },
      "outputs": [],
      "source": [
        "# Define the number of columns and rows for the subplots\n",
        "num_cols = 3\n",
        "num_rows = -(-len(numeric_cols) // num_cols)  # Ceiling division"
      ]
    },
    {
      "cell_type": "code",
      "execution_count": null,
      "metadata": {
        "colab": {
          "base_uri": "https://localhost:8080/",
          "height": 957
        },
        "id": "Svg7dyw2c7NX",
        "outputId": "823cb97a-4d58-4555-e1cd-e4a21f9e447a"
      },
      "outputs": [
        {
          "output_type": "display_data",
          "data": {
            "text/plain": [
              "<Figure size 1500x1000 with 8 Axes>"
            ],
            "image/png": "[encoded data removed]"
          },
          "metadata": {}
        }
      ],
      "source": [
        "# Create a function to plot histograms\n",
        "def plot_histogram(data, x_var, default_var, num_bins=30):\n",
        "    plt.hist([data[data[default_var] == 0][x_var], data[data[default_var] == 1][x_var]],\n",
        "             bins=num_bins, alpha=0.7, label=['Non Default', 'Default'], color=['#66c2a5', '#fc8d62'])\n",
        "    plt.title(f\"Histogram of {x_var}\")\n",
        "    plt.xlabel(x_var)\n",
        "    plt.ylabel(\"Frequency\")\n",
        "    plt.legend()\n",
        "    plt.grid(True)\n",
        "\n",
        "# Create the subplots\n",
        "fig = plt.figure(figsize=(15, 10))\n",
        "gs = GridSpec(num_rows, num_cols, figure=fig)\n",
        "\n",
        "for i, col in enumerate(numeric_cols):\n",
        "    ax = fig.add_subplot(gs[i])\n",
        "    plot_histogram(df, col, \"default\")\n",
        "\n",
        "plt.tight_layout()\n",
        "plt.show()"
      ]
    },
    {
      "cell_type": "code",
      "execution_count": null,
      "metadata": {
        "id": "hrgxJaY8dBj3"
      },
      "outputs": [],
      "source": [
        "from sklearn.model_selection import train_test_split"
      ]
    },
    {
      "cell_type": "code",
      "execution_count": null,
      "metadata": {
        "id": "13hm1dJ5dpiT"
      },
      "outputs": [],
      "source": [
        "# Separate predictors and target variable\n",
        "x = df.drop(columns=[\"default\"])\n",
        "y = df[\"default\"]"
      ]
    },
    {
      "cell_type": "code",
      "execution_count": null,
      "metadata": {
        "id": "HgVo0xEZdsyc"
      },
      "outputs": [],
      "source": [
        "# Encode categorical variables without intercept\n",
        "x_encoded = pd.get_dummies(x, drop_first=True)\n",
        "\n",
        "# Combine encoded features with the target variable\n",
        "df_encoded = pd.concat([x_encoded, y], axis=1)\n"
      ]
    },
    {
      "cell_type": "code",
      "execution_count": null,
      "metadata": {
        "id": "zFhc8cmUdxzy"
      },
      "outputs": [],
      "source": [
        "# Set random seed\n",
        "np.random.seed(123)"
      ]
    },
    {
      "cell_type": "code",
      "execution_count": null,
      "metadata": {
        "id": "hCxQtN2Ud2l2"
      },
      "outputs": [],
      "source": [
        "# Create training and testing sets based on the stratified sample\n",
        "train_data, test_data = train_test_split(df_encoded, test_size=0.5, stratify=df_encoded['default'])\n"
      ]
    },
    {
      "cell_type": "code",
      "execution_count": null,
      "metadata": {
        "id": "biY3Fg-kd5tT"
      },
      "outputs": [],
      "source": [
        "# Display the percentage of non-default and default cases in the testing set\n",
        "non_default_percentage = (test_data['default'] == 0).mean() * 100\n",
        "default_percentage = (test_data['default'] == 1).mean() * 100"
      ]
    },
    {
      "cell_type": "code",
      "execution_count": null,
      "metadata": {
        "colab": {
          "base_uri": "https://localhost:8080/"
        },
        "id": "pbb7DSm0d9Xa",
        "outputId": "2f43cc43-eeff-4f32-e3b7-22b9bdb47e0c"
      },
      "outputs": [
        {
          "output_type": "stream",
          "name": "stdout",
          "text": [
            "Non Default: 79.04 % of the dataset\n",
            "Default: 20.96 % of the dataset\n"
          ]
        }
      ],
      "source": [
        "print('Non Default:', round(non_default_percentage, 2), '% of the dataset')\n",
        "print('Default:', round(default_percentage, 2), '% of the dataset')"
      ]
    },
    {
      "cell_type": "code",
      "execution_count": null,
      "metadata": {
        "colab": {
          "base_uri": "https://localhost:8080/",
          "height": 1000
        },
        "id": "p9gHkL_0eA5e",
        "outputId": "49840455-707a-44c2-ca17-215fd80c2003"
      },
      "outputs": [
        {
          "output_type": "display_data",
          "data": {
            "text/plain": [
              "<Figure size 800x600 with 1 Axes>"
            ],
            "image/png": "[encoded data removed]"
          },
          "metadata": {}
        },
        {
          "output_type": "stream",
          "name": "stdout",
          "text": [
            "       person_age  person_income  person_emp_length  loan_amnt  loan_int_rate  \\\n",
            "5650           23          95004                2.0       5000           9.63   \n",
            "25169          28          80004                5.0      12000           6.91   \n",
            "4121           23          40000                7.0       5000           8.49   \n",
            "6038           26          52500                0.0       5700          11.12   \n",
            "7366           25          75000                2.0       6500          13.57   \n",
            "\n",
            "       loan_percent_income  cb_person_cred_hist_length  \\\n",
            "5650                  0.05                           4   \n",
            "25169                 0.15                           6   \n",
            "4121                  0.13                           4   \n",
            "6038                  0.11                           2   \n",
            "7366                  0.09                           2   \n",
            "\n",
            "       person_home_ownership_OTHER  person_home_ownership_OWN  \\\n",
            "5650                         False                      False   \n",
            "25169                        False                      False   \n",
            "4121                         False                       True   \n",
            "6038                         False                      False   \n",
            "7366                         False                      False   \n",
            "\n",
            "       person_home_ownership_RENT  ...  loan_intent_PERSONAL  \\\n",
            "5650                         True  ...                 False   \n",
            "25169                       False  ...                 False   \n",
            "4121                        False  ...                 False   \n",
            "6038                         True  ...                 False   \n",
            "7366                         True  ...                 False   \n",
            "\n",
            "       loan_intent_VENTURE  loan_grade_B  loan_grade_C  loan_grade_D  \\\n",
            "5650                 False         False         False         False   \n",
            "25169                False         False         False         False   \n",
            "4121                 False         False         False         False   \n",
            "6038                 False          True         False         False   \n",
            "7366                 False         False          True         False   \n",
            "\n",
            "       loan_grade_E  loan_grade_F  loan_grade_G  cb_person_default_on_file_Y  \\\n",
            "5650          False         False         False                        False   \n",
            "25169         False         False         False                        False   \n",
            "4121          False         False         False                        False   \n",
            "6038          False         False         False                        False   \n",
            "7366          False         False         False                         True   \n",
            "\n",
            "       default  \n",
            "5650         0  \n",
            "25169        0  \n",
            "4121         0  \n",
            "6038         0  \n",
            "7366         0  \n",
            "\n",
            "[5 rows x 23 columns]\n"
          ]
        }
      ],
      "source": [
        "plt.figure(figsize=(8, 6))\n",
        "test_data['default'].value_counts().plot(kind='bar', color=['#66c2a5', '#fc8d62'])\n",
        "plt.xlabel(\"Loan Status Default\")\n",
        "plt.ylabel(\"Count\")\n",
        "plt.title(\"Countplot of Loan Status\")\n",
        "plt.xticks(ticks=[0, 1], labels=['Non Default', 'Default'], rotation=0)\n",
        "plt.show()\n",
        "\n",
        "# Display the first few rows of the sampled data\n",
        "print(test_data.head())"
      ]
    },
    {
      "cell_type": "code",
      "execution_count": null,
      "metadata": {
        "id": "hPzqMHREeEfW"
      },
      "outputs": [],
      "source": [
        "import seaborn as sns"
      ]
    },
    {
      "cell_type": "code",
      "execution_count": null,
      "metadata": {
        "id": "4-BPl2O3fG96"
      },
      "outputs": [],
      "source": [
        "\n",
        "# Calculate correlation excluding the target variable\n",
        "correlation = train_data.corr().loc[:, 'default'].drop('default')"
      ]
    },
    {
      "cell_type": "code",
      "execution_count": null,
      "metadata": {
        "id": "w9R509K7fICh"
      },
      "outputs": [],
      "source": [
        "# Sort correlation values\n",
        "correlation = correlation.sort_values(ascending=False)"
      ]
    },
    {
      "cell_type": "code",
      "execution_count": null,
      "metadata": {
        "id": "Ncf9OqMifLKN"
      },
      "outputs": [],
      "source": [
        "# Extract column names\n",
        "col_names = correlation.index.tolist()"
      ]
    },
    {
      "cell_type": "code",
      "execution_count": null,
      "metadata": {
        "id": "QGIh7-PLfOD5"
      },
      "outputs": [],
      "source": [
        "# Create a color palette\n",
        "colors = sns.color_palette(\"plasma\", len(correlation))"
      ]
    },
    {
      "cell_type": "code",
      "execution_count": null,
      "metadata": {
        "colab": {
          "base_uri": "https://localhost:8080/",
          "height": 651
        },
        "id": "9Yk5YxjbfQ5z",
        "outputId": "491c1b77-1117-44c8-928a-a0d8a3aea455"
      },
      "outputs": [
        {
          "output_type": "stream",
          "name": "stderr",
          "text": [
            "<ipython-input-36-89d7c29e8a01>:3: FutureWarning: \n",
            "\n",
            "Passing `palette` without assigning `hue` is deprecated and will be removed in v0.14.0. Assign the `y` variable to `hue` and set `legend=False` for the same effect.\n",
            "\n",
            "  sns.barplot(x=correlation.values, y=col_names, palette=colors)\n"
          ]
        },
        {
          "output_type": "display_data",
          "data": {
            "text/plain": [
              "<Figure size 1200x600 with 1 Axes>"
            ],
            "image/png": "[encoded data removed]"
          },
          "metadata": {}
        }
      ],
      "source": [
        "# Plotting\n",
        "plt.figure(figsize=(12, 6))\n",
        "sns.barplot(x=correlation.values, y=col_names, palette=colors)\n",
        "plt.title(\"Correlation with 'default'\")\n",
        "plt.xlabel(\"Correlation\")\n",
        "plt.ylabel(\"Features\")\n",
        "plt.grid(axis='x')\n",
        "plt.show()"
      ]
    },
    {
      "cell_type": "code",
      "execution_count": null,
      "metadata": {
        "id": "BnuVyymy73iv"
      },
      "outputs": [],
      "source": []
    },
    {
      "cell_type": "code",
      "execution_count": null,
      "metadata": {
        "id": "FccDq3_5fUGc"
      },
      "outputs": [],
      "source": [
        "from sklearn.linear_model import LogisticRegression\n",
        "lr=LogisticRegression"
      ]
    },
    {
      "cell_type": "code",
      "execution_count": null,
      "metadata": {
        "id": "8nsjOdcmrSXy"
      },
      "outputs": [],
      "source": []
    },
    {
      "cell_type": "code",
      "execution_count": null,
      "metadata": {
        "colab": {
          "base_uri": "https://localhost:8080/"
        },
        "id": "hGdsNTw8h1sf",
        "outputId": "d85a64af-ee92-4bcd-e47d-e47447f0bd24"
      },
      "outputs": [
        {
          "output_type": "stream",
          "name": "stdout",
          "text": [
            "<class 'pandas.core.frame.DataFrame'>\n",
            "Index: 26993 entries, 1 to 32296\n",
            "Data columns (total 12 columns):\n",
            " #   Column                      Non-Null Count  Dtype  \n",
            "---  ------                      --------------  -----  \n",
            " 0   person_age                  26993 non-null  int64  \n",
            " 1   person_income               26993 non-null  int64  \n",
            " 2   person_home_ownership       26993 non-null  object \n",
            " 3   person_emp_length           26993 non-null  float64\n",
            " 4   loan_intent                 26993 non-null  object \n",
            " 5   loan_grade                  26993 non-null  object \n",
            " 6   loan_amnt                   26993 non-null  int64  \n",
            " 7   loan_int_rate               26993 non-null  float64\n",
            " 8   default                     26993 non-null  int64  \n",
            " 9   loan_percent_income         26993 non-null  float64\n",
            " 10  cb_person_default_on_file   26993 non-null  object \n",
            " 11  cb_person_cred_hist_length  26993 non-null  int64  \n",
            "dtypes: float64(3), int64(5), object(4)\n",
            "memory usage: 2.7+ MB\n"
          ]
        }
      ],
      "source": [
        "df.info()"
      ]
    },
    {
      "cell_type": "code",
      "execution_count": null,
      "metadata": {
        "id": "A6k_lmI8kbs_"
      },
      "outputs": [],
      "source": [
        "from sklearn.preprocessing import LabelEncoder\n",
        "enc=LabelEncoder()"
      ]
    },
    {
      "cell_type": "code",
      "execution_count": null,
      "metadata": {
        "id": "CpfOeJKBkd74"
      },
      "outputs": [],
      "source": [
        "person_home_ownership=enc.fit_transform(df['person_home_ownership'])"
      ]
    },
    {
      "cell_type": "code",
      "execution_count": null,
      "metadata": {
        "id": "Kqvt7Yj5luz5"
      },
      "outputs": [],
      "source": [
        "loan_intent=enc.fit_transform(df['loan_intent'])"
      ]
    },
    {
      "cell_type": "code",
      "execution_count": null,
      "metadata": {
        "id": "bkovdVotnDgj"
      },
      "outputs": [],
      "source": [
        "loan_grade=enc.fit_transform(df['loan_grade'])"
      ]
    },
    {
      "cell_type": "code",
      "execution_count": null,
      "metadata": {
        "id": "qlysvQpOnl6O"
      },
      "outputs": [],
      "source": [
        "cb_person_default_on_file=enc.fit_transform(df['cb_person_default_on_file'])"
      ]
    },
    {
      "cell_type": "code",
      "execution_count": null,
      "metadata": {
        "id": "c15Ayvfyn30L"
      },
      "outputs": [],
      "source": [
        "df['person_home_ownership']=person_home_ownership"
      ]
    },
    {
      "cell_type": "code",
      "execution_count": null,
      "metadata": {
        "id": "9mPWrPbEoCfc"
      },
      "outputs": [],
      "source": [
        "df['loan_intent']=loan_intent"
      ]
    },
    {
      "cell_type": "code",
      "execution_count": null,
      "metadata": {
        "id": "Kpow7HMaoIBq"
      },
      "outputs": [],
      "source": [
        "df['loan_grade']=loan_grade"
      ]
    },
    {
      "cell_type": "code",
      "execution_count": null,
      "metadata": {
        "id": "e9id0pjHomj0"
      },
      "outputs": [],
      "source": [
        "df['cb_person_default_on_file']=cb_person_default_on_file"
      ]
    },
    {
      "cell_type": "code",
      "execution_count": null,
      "metadata": {
        "colab": {
          "base_uri": "https://localhost:8080/"
        },
        "id": "lUDdez7aovrD",
        "outputId": "1fec066d-4f99-40a3-b3f9-f5a24bd7a1f3"
      },
      "outputs": [
        {
          "output_type": "stream",
          "name": "stdout",
          "text": [
            "<class 'pandas.core.frame.DataFrame'>\n",
            "Index: 26993 entries, 1 to 32296\n",
            "Data columns (total 12 columns):\n",
            " #   Column                      Non-Null Count  Dtype  \n",
            "---  ------                      --------------  -----  \n",
            " 0   person_age                  26993 non-null  int64  \n",
            " 1   person_income               26993 non-null  int64  \n",
            " 2   person_home_ownership       26993 non-null  int64  \n",
            " 3   person_emp_length           26993 non-null  float64\n",
            " 4   loan_intent                 26993 non-null  int64  \n",
            " 5   loan_grade                  26993 non-null  int64  \n",
            " 6   loan_amnt                   26993 non-null  int64  \n",
            " 7   loan_int_rate               26993 non-null  float64\n",
            " 8   default                     26993 non-null  int64  \n",
            " 9   loan_percent_income         26993 non-null  float64\n",
            " 10  cb_person_default_on_file   26993 non-null  int64  \n",
            " 11  cb_person_cred_hist_length  26993 non-null  int64  \n",
            "dtypes: float64(3), int64(9)\n",
            "memory usage: 2.7 MB\n"
          ]
        }
      ],
      "source": [
        "df.info()"
      ]
    },
    {
      "cell_type": "code",
      "execution_count": null,
      "metadata": {
        "id": "M073L79FsqXV"
      },
      "outputs": [],
      "source": [
        "X=df.drop('default',axis=1)"
      ]
    },
    {
      "cell_type": "code",
      "execution_count": null,
      "metadata": {
        "id": "O2kvKjpUsylR"
      },
      "outputs": [],
      "source": [
        "Y=df['default']"
      ]
    },
    {
      "cell_type": "code",
      "execution_count": null,
      "metadata": {
        "id": "udPXfx-jtaBe"
      },
      "outputs": [],
      "source": [
        "from sklearn.model_selection import train_test_split\n",
        "X_train ,X_test , Y_train , Y_test =train_test_split(X,Y,test_size=0.2,random_state=101)"
      ]
    },
    {
      "cell_type": "code",
      "execution_count": null,
      "metadata": {
        "id": "5aFs-O4EtfBD"
      },
      "outputs": [],
      "source": [
        "from sklearn.preprocessing import StandardScaler"
      ]
    },
    {
      "cell_type": "code",
      "execution_count": null,
      "metadata": {
        "id": "p_r-9lMMtjPU"
      },
      "outputs": [],
      "source": [
        "std=StandardScaler()"
      ]
    },
    {
      "cell_type": "code",
      "execution_count": null,
      "metadata": {
        "id": "GX3Z0pbytnNH"
      },
      "outputs": [],
      "source": [
        "X_train_std=std.fit_transform(X_train)\n",
        "X_test_std=std.transform(X_test)"
      ]
    },
    {
      "cell_type": "code",
      "execution_count": null,
      "metadata": {
        "id": "TOi9cbXGtpMQ"
      },
      "outputs": [],
      "source": [
        "from sklearn.linear_model import LogisticRegression\n",
        "lr=LogisticRegression()"
      ]
    },
    {
      "cell_type": "code",
      "execution_count": null,
      "metadata": {
        "colab": {
          "base_uri": "https://localhost:8080/",
          "height": 74
        },
        "id": "cZuwOQXhtxIB",
        "outputId": "bcc275b0-89b6-4f8b-cfb6-ff1a0c2c2f34"
      },
      "outputs": [
        {
          "output_type": "execute_result",
          "data": {
            "text/plain": [
              "LogisticRegression()"
            ],
            "text/html": [
              "<style>#sk-container-id-1 {color: black;background-color: white;}#sk-container-id-1 pre{padding: 0;}#sk-container-id-1 div.sk-toggleable {background-color: white;}#sk-container-id-1 label.sk-toggleable__label {cursor: pointer;display: block;width: 100%;margin-bottom: 0;padding: 0.3em;box-sizing: border-box;text-align: center;}#sk-container-id-1 label.sk-toggleable__label-arrow:before {content: \"▸\";float: left;margin-right: 0.25em;color: #696969;}#sk-container-id-1 label.sk-toggleable__label-arrow:hover:before {color: black;}#sk-container-id-1 div.sk-estimator:hover label.sk-toggleable__label-arrow:before {color: black;}#sk-container-id-1 div.sk-toggleable__content {max-height: 0;max-width: 0;overflow: hidden;text-align: left;background-color: #f0f8ff;}#sk-container-id-1 div.sk-toggleable__content pre {margin: 0.2em;color: black;border-radius: 0.25em;background-color: #f0f8ff;}#sk-container-id-1 input.sk-toggleable__control:checked~div.sk-toggleable__content {max-height: 200px;max-width: 100%;overflow: auto;}#sk-container-id-1 input.sk-toggleable__control:checked~label.sk-toggleable__label-arrow:before {content: \"▾\";}#sk-container-id-1 div.sk-estimator input.sk-toggleable__control:checked~label.sk-toggleable__label {background-color: #d4ebff;}#sk-container-id-1 div.sk-label input.sk-toggleable__control:checked~label.sk-toggleable__label {background-color: #d4ebff;}#sk-container-id-1 input.sk-hidden--visually {border: 0;clip: rect(1px 1px 1px 1px);clip: rect(1px, 1px, 1px, 1px);height: 1px;margin: -1px;overflow: hidden;padding: 0;position: absolute;width: 1px;}#sk-container-id-1 div.sk-estimator {font-family: monospace;background-color: #f0f8ff;border: 1px dotted black;border-radius: 0.25em;box-sizing: border-box;margin-bottom: 0.5em;}#sk-container-id-1 div.sk-estimator:hover {background-color: #d4ebff;}#sk-container-id-1 div.sk-parallel-item::after {content: \"\";width: 100%;border-bottom: 1px solid gray;flex-grow: 1;}#sk-container-id-1 div.sk-label:hover label.sk-toggleable__label {background-color: #d4ebff;}#sk-container-id-1 div.sk-serial::before {content: \"\";position: absolute;border-left: 1px solid gray;box-sizing: border-box;top: 0;bottom: 0;left: 50%;z-index: 0;}#sk-container-id-1 div.sk-serial {display: flex;flex-direction: column;align-items: center;background-color: white;padding-right: 0.2em;padding-left: 0.2em;position: relative;}#sk-container-id-1 div.sk-item {position: relative;z-index: 1;}#sk-container-id-1 div.sk-parallel {display: flex;align-items: stretch;justify-content: center;background-color: white;position: relative;}#sk-container-id-1 div.sk-item::before, #sk-container-id-1 div.sk-parallel-item::before {content: \"\";position: absolute;border-left: 1px solid gray;box-sizing: border-box;top: 0;bottom: 0;left: 50%;z-index: -1;}#sk-container-id-1 div.sk-parallel-item {display: flex;flex-direction: column;z-index: 1;position: relative;background-color: white;}#sk-container-id-1 div.sk-parallel-item:first-child::after {align-self: flex-end;width: 50%;}#sk-container-id-1 div.sk-parallel-item:last-child::after {align-self: flex-start;width: 50%;}#sk-container-id-1 div.sk-parallel-item:only-child::after {width: 0;}#sk-container-id-1 div.sk-dashed-wrapped {border: 1px dashed gray;margin: 0 0.4em 0.5em 0.4em;box-sizing: border-box;padding-bottom: 0.4em;background-color: white;}#sk-container-id-1 div.sk-label label {font-family: monospace;font-weight: bold;display: inline-block;line-height: 1.2em;}#sk-container-id-1 div.sk-label-container {text-align: center;}#sk-container-id-1 div.sk-container {/* jupyter's `normalize.less` sets `[hidden] { display: none; }` but bootstrap.min.css set `[hidden] { display: none !important; }` so we also need the `!important` here to be able to override the default hidden behavior on the sphinx rendered scikit-learn.org. See: https://github.com/scikit-learn/scikit-learn/issues/21755 */display: inline-block !important;position: relative;}#sk-container-id-1 div.sk-text-repr-fallback {display: none;}</style><div id=\"sk-container-id-1\" class=\"sk-top-container\"><div class=\"sk-text-repr-fallback\"><pre>LogisticRegression()</pre><b>In a Jupyter environment, please rerun this cell to show the HTML representation or trust the notebook. <br />On GitHub, the HTML representation is unable to render, please try loading this page with nbviewer.org.</b></div><div class=\"sk-container\" hidden><div class=\"sk-item\"><div class=\"sk-estimator sk-toggleable\"><input class=\"sk-toggleable__control sk-hidden--visually\" id=\"sk-estimator-id-1\" type=\"checkbox\" checked><label for=\"sk-estimator-id-1\" class=\"sk-toggleable__label sk-toggleable__label-arrow\">LogisticRegression</label><div class=\"sk-toggleable__content\"><pre>LogisticRegression()</pre></div></div></div></div></div>"
            ]
          },
          "metadata": {},
          "execution_count": 56
        }
      ],
      "source": [
        "lr.fit(X_train_std,Y_train)"
      ]
    },
    {
      "cell_type": "code",
      "execution_count": null,
      "metadata": {
        "id": "bY3GI8uJt0Dv"
      },
      "outputs": [],
      "source": [
        "Y_pred1=lr.predict(X_test_std)"
      ]
    },
    {
      "cell_type": "code",
      "execution_count": null,
      "metadata": {
        "id": "vkvE-szkuR39"
      },
      "outputs": [],
      "source": [
        "from sklearn.metrics import accuracy_score"
      ]
    },
    {
      "cell_type": "code",
      "execution_count": null,
      "metadata": {
        "colab": {
          "base_uri": "https://localhost:8080/"
        },
        "id": "xcw1aK22uUqs",
        "outputId": "ae03c6ba-aceb-4450-8d25-ab983b809432"
      },
      "outputs": [
        {
          "output_type": "execute_result",
          "data": {
            "text/plain": [
              "0.8501574365623263"
            ]
          },
          "metadata": {},
          "execution_count": 59
        }
      ],
      "source": [
        "ac_lr=accuracy_score(Y_test,Y_pred1)\n",
        "ac_lr"
      ]
    },
    {
      "cell_type": "code",
      "execution_count": null,
      "metadata": {
        "id": "QtqLpiPGxFBm"
      },
      "outputs": [],
      "source": [
        "from sklearn.tree import DecisionTreeClassifier\n",
        "dt=DecisionTreeClassifier()"
      ]
    },
    {
      "cell_type": "code",
      "execution_count": null,
      "metadata": {
        "colab": {
          "base_uri": "https://localhost:8080/",
          "height": 74
        },
        "id": "P3rbmSzE0XLS",
        "outputId": "bf152405-c859-48b3-da24-6bfdf5c62e4d"
      },
      "outputs": [
        {
          "output_type": "execute_result",
          "data": {
            "text/plain": [
              "DecisionTreeClassifier()"
            ],
            "text/html": [
              "<style>#sk-container-id-2 {color: black;background-color: white;}#sk-container-id-2 pre{padding: 0;}#sk-container-id-2 div.sk-toggleable {background-color: white;}#sk-container-id-2 label.sk-toggleable__label {cursor: pointer;display: block;width: 100%;margin-bottom: 0;padding: 0.3em;box-sizing: border-box;text-align: center;}#sk-container-id-2 label.sk-toggleable__label-arrow:before {content: \"▸\";float: left;margin-right: 0.25em;color: #696969;}#sk-container-id-2 label.sk-toggleable__label-arrow:hover:before {color: black;}#sk-container-id-2 div.sk-estimator:hover label.sk-toggleable__label-arrow:before {color: black;}#sk-container-id-2 div.sk-toggleable__content {max-height: 0;max-width: 0;overflow: hidden;text-align: left;background-color: #f0f8ff;}#sk-container-id-2 div.sk-toggleable__content pre {margin: 0.2em;color: black;border-radius: 0.25em;background-color: #f0f8ff;}#sk-container-id-2 input.sk-toggleable__control:checked~div.sk-toggleable__content {max-height: 200px;max-width: 100%;overflow: auto;}#sk-container-id-2 input.sk-toggleable__control:checked~label.sk-toggleable__label-arrow:before {content: \"▾\";}#sk-container-id-2 div.sk-estimator input.sk-toggleable__control:checked~label.sk-toggleable__label {background-color: #d4ebff;}#sk-container-id-2 div.sk-label input.sk-toggleable__control:checked~label.sk-toggleable__label {background-color: #d4ebff;}#sk-container-id-2 input.sk-hidden--visually {border: 0;clip: rect(1px 1px 1px 1px);clip: rect(1px, 1px, 1px, 1px);height: 1px;margin: -1px;overflow: hidden;padding: 0;position: absolute;width: 1px;}#sk-container-id-2 div.sk-estimator {font-family: monospace;background-color: #f0f8ff;border: 1px dotted black;border-radius: 0.25em;box-sizing: border-box;margin-bottom: 0.5em;}#sk-container-id-2 div.sk-estimator:hover {background-color: #d4ebff;}#sk-container-id-2 div.sk-parallel-item::after {content: \"\";width: 100%;border-bottom: 1px solid gray;flex-grow: 1;}#sk-container-id-2 div.sk-label:hover label.sk-toggleable__label {background-color: #d4ebff;}#sk-container-id-2 div.sk-serial::before {content: \"\";position: absolute;border-left: 1px solid gray;box-sizing: border-box;top: 0;bottom: 0;left: 50%;z-index: 0;}#sk-container-id-2 div.sk-serial {display: flex;flex-direction: column;align-items: center;background-color: white;padding-right: 0.2em;padding-left: 0.2em;position: relative;}#sk-container-id-2 div.sk-item {position: relative;z-index: 1;}#sk-container-id-2 div.sk-parallel {display: flex;align-items: stretch;justify-content: center;background-color: white;position: relative;}#sk-container-id-2 div.sk-item::before, #sk-container-id-2 div.sk-parallel-item::before {content: \"\";position: absolute;border-left: 1px solid gray;box-sizing: border-box;top: 0;bottom: 0;left: 50%;z-index: -1;}#sk-container-id-2 div.sk-parallel-item {display: flex;flex-direction: column;z-index: 1;position: relative;background-color: white;}#sk-container-id-2 div.sk-parallel-item:first-child::after {align-self: flex-end;width: 50%;}#sk-container-id-2 div.sk-parallel-item:last-child::after {align-self: flex-start;width: 50%;}#sk-container-id-2 div.sk-parallel-item:only-child::after {width: 0;}#sk-container-id-2 div.sk-dashed-wrapped {border: 1px dashed gray;margin: 0 0.4em 0.5em 0.4em;box-sizing: border-box;padding-bottom: 0.4em;background-color: white;}#sk-container-id-2 div.sk-label label {font-family: monospace;font-weight: bold;display: inline-block;line-height: 1.2em;}#sk-container-id-2 div.sk-label-container {text-align: center;}#sk-container-id-2 div.sk-container {/* jupyter's `normalize.less` sets `[hidden] { display: none; }` but bootstrap.min.css set `[hidden] { display: none !important; }` so we also need the `!important` here to be able to override the default hidden behavior on the sphinx rendered scikit-learn.org. See: https://github.com/scikit-learn/scikit-learn/issues/21755 */display: inline-block !important;position: relative;}#sk-container-id-2 div.sk-text-repr-fallback {display: none;}</style><div id=\"sk-container-id-2\" class=\"sk-top-container\"><div class=\"sk-text-repr-fallback\"><pre>DecisionTreeClassifier()</pre><b>In a Jupyter environment, please rerun this cell to show the HTML representation or trust the notebook. <br />On GitHub, the HTML representation is unable to render, please try loading this page with nbviewer.org.</b></div><div class=\"sk-container\" hidden><div class=\"sk-item\"><div class=\"sk-estimator sk-toggleable\"><input class=\"sk-toggleable__control sk-hidden--visually\" id=\"sk-estimator-id-2\" type=\"checkbox\" checked><label for=\"sk-estimator-id-2\" class=\"sk-toggleable__label sk-toggleable__label-arrow\">DecisionTreeClassifier</label><div class=\"sk-toggleable__content\"><pre>DecisionTreeClassifier()</pre></div></div></div></div></div>"
            ]
          },
          "metadata": {},
          "execution_count": 61
        }
      ],
      "source": [
        "dt.fit(X_train_std,Y_train)"
      ]
    },
    {
      "cell_type": "code",
      "execution_count": null,
      "metadata": {
        "colab": {
          "base_uri": "https://localhost:8080/"
        },
        "id": "ykcMzH-30Ztv",
        "outputId": "2128ef45-e4c8-406e-c258-847ef687ad7d"
      },
      "outputs": [
        {
          "output_type": "execute_result",
          "data": {
            "text/plain": [
              "array([0.0373317 , 0.12540776, 0.13505983, 0.06363176, 0.10180867,\n",
              "       0.17212393, 0.04549074, 0.06218877, 0.22344533, 0.00503024,\n",
              "       0.02848126])"
            ]
          },
          "metadata": {},
          "execution_count": 62
        }
      ],
      "source": [
        "dt.feature_importances_"
      ]
    },
    {
      "cell_type": "code",
      "execution_count": null,
      "metadata": {
        "id": "W-a8yoFJ0_aM"
      },
      "outputs": [],
      "source": [
        "Y_pred=dt.predict(X_test_std)"
      ]
    },
    {
      "cell_type": "code",
      "execution_count": null,
      "metadata": {
        "id": "cfQVsrIj1Oth"
      },
      "outputs": [],
      "source": [
        "from sklearn.metrics import accuracy_score"
      ]
    },
    {
      "cell_type": "code",
      "execution_count": null,
      "metadata": {
        "id": "02WD8xjE1YJm"
      },
      "outputs": [],
      "source": [
        "ac_dt=accuracy_score(Y_test,Y_pred)"
      ]
    },
    {
      "cell_type": "code",
      "execution_count": null,
      "metadata": {
        "colab": {
          "base_uri": "https://localhost:8080/"
        },
        "id": "Yc7kHOw-1dPG",
        "outputId": "b0257f99-2a40-4af2-9227-17d62b21d80c"
      },
      "outputs": [
        {
          "output_type": "execute_result",
          "data": {
            "text/plain": [
              "0.8825708464530468"
            ]
          },
          "metadata": {},
          "execution_count": 66
        }
      ],
      "source": [
        "ac_dt"
      ]
    },
    {
      "cell_type": "code",
      "execution_count": null,
      "metadata": {
        "id": "E-nGT0a61l-c"
      },
      "outputs": [],
      "source": [
        "from sklearn.ensemble import RandomForestClassifier"
      ]
    },
    {
      "cell_type": "code",
      "execution_count": null,
      "metadata": {
        "colab": {
          "base_uri": "https://localhost:8080/",
          "height": 74
        },
        "id": "TiRknEuZBKqA",
        "outputId": "98afc794-9007-4f80-90b7-27039cd7bb2f"
      },
      "outputs": [
        {
          "output_type": "execute_result",
          "data": {
            "text/plain": [
              "RandomForestClassifier(criterion='entropy', n_estimators=200, random_state=0)"
            ],
            "text/html": [
              "<style>#sk-container-id-3 {color: black;background-color: white;}#sk-container-id-3 pre{padding: 0;}#sk-container-id-3 div.sk-toggleable {background-color: white;}#sk-container-id-3 label.sk-toggleable__label {cursor: pointer;display: block;width: 100%;margin-bottom: 0;padding: 0.3em;box-sizing: border-box;text-align: center;}#sk-container-id-3 label.sk-toggleable__label-arrow:before {content: \"▸\";float: left;margin-right: 0.25em;color: #696969;}#sk-container-id-3 label.sk-toggleable__label-arrow:hover:before {color: black;}#sk-container-id-3 div.sk-estimator:hover label.sk-toggleable__label-arrow:before {color: black;}#sk-container-id-3 div.sk-toggleable__content {max-height: 0;max-width: 0;overflow: hidden;text-align: left;background-color: #f0f8ff;}#sk-container-id-3 div.sk-toggleable__content pre {margin: 0.2em;color: black;border-radius: 0.25em;background-color: #f0f8ff;}#sk-container-id-3 input.sk-toggleable__control:checked~div.sk-toggleable__content {max-height: 200px;max-width: 100%;overflow: auto;}#sk-container-id-3 input.sk-toggleable__control:checked~label.sk-toggleable__label-arrow:before {content: \"▾\";}#sk-container-id-3 div.sk-estimator input.sk-toggleable__control:checked~label.sk-toggleable__label {background-color: #d4ebff;}#sk-container-id-3 div.sk-label input.sk-toggleable__control:checked~label.sk-toggleable__label {background-color: #d4ebff;}#sk-container-id-3 input.sk-hidden--visually {border: 0;clip: rect(1px 1px 1px 1px);clip: rect(1px, 1px, 1px, 1px);height: 1px;margin: -1px;overflow: hidden;padding: 0;position: absolute;width: 1px;}#sk-container-id-3 div.sk-estimator {font-family: monospace;background-color: #f0f8ff;border: 1px dotted black;border-radius: 0.25em;box-sizing: border-box;margin-bottom: 0.5em;}#sk-container-id-3 div.sk-estimator:hover {background-color: #d4ebff;}#sk-container-id-3 div.sk-parallel-item::after {content: \"\";width: 100%;border-bottom: 1px solid gray;flex-grow: 1;}#sk-container-id-3 div.sk-label:hover label.sk-toggleable__label {background-color: #d4ebff;}#sk-container-id-3 div.sk-serial::before {content: \"\";position: absolute;border-left: 1px solid gray;box-sizing: border-box;top: 0;bottom: 0;left: 50%;z-index: 0;}#sk-container-id-3 div.sk-serial {display: flex;flex-direction: column;align-items: center;background-color: white;padding-right: 0.2em;padding-left: 0.2em;position: relative;}#sk-container-id-3 div.sk-item {position: relative;z-index: 1;}#sk-container-id-3 div.sk-parallel {display: flex;align-items: stretch;justify-content: center;background-color: white;position: relative;}#sk-container-id-3 div.sk-item::before, #sk-container-id-3 div.sk-parallel-item::before {content: \"\";position: absolute;border-left: 1px solid gray;box-sizing: border-box;top: 0;bottom: 0;left: 50%;z-index: -1;}#sk-container-id-3 div.sk-parallel-item {display: flex;flex-direction: column;z-index: 1;position: relative;background-color: white;}#sk-container-id-3 div.sk-parallel-item:first-child::after {align-self: flex-end;width: 50%;}#sk-container-id-3 div.sk-parallel-item:last-child::after {align-self: flex-start;width: 50%;}#sk-container-id-3 div.sk-parallel-item:only-child::after {width: 0;}#sk-container-id-3 div.sk-dashed-wrapped {border: 1px dashed gray;margin: 0 0.4em 0.5em 0.4em;box-sizing: border-box;padding-bottom: 0.4em;background-color: white;}#sk-container-id-3 div.sk-label label {font-family: monospace;font-weight: bold;display: inline-block;line-height: 1.2em;}#sk-container-id-3 div.sk-label-container {text-align: center;}#sk-container-id-3 div.sk-container {/* jupyter's `normalize.less` sets `[hidden] { display: none; }` but bootstrap.min.css set `[hidden] { display: none !important; }` so we also need the `!important` here to be able to override the default hidden behavior on the sphinx rendered scikit-learn.org. See: https://github.com/scikit-learn/scikit-learn/issues/21755 */display: inline-block !important;position: relative;}#sk-container-id-3 div.sk-text-repr-fallback {display: none;}</style><div id=\"sk-container-id-3\" class=\"sk-top-container\"><div class=\"sk-text-repr-fallback\"><pre>RandomForestClassifier(criterion=&#x27;entropy&#x27;, n_estimators=200, random_state=0)</pre><b>In a Jupyter environment, please rerun this cell to show the HTML representation or trust the notebook. <br />On GitHub, the HTML representation is unable to render, please try loading this page with nbviewer.org.</b></div><div class=\"sk-container\" hidden><div class=\"sk-item\"><div class=\"sk-estimator sk-toggleable\"><input class=\"sk-toggleable__control sk-hidden--visually\" id=\"sk-estimator-id-3\" type=\"checkbox\" checked><label for=\"sk-estimator-id-3\" class=\"sk-toggleable__label sk-toggleable__label-arrow\">RandomForestClassifier</label><div class=\"sk-toggleable__content\"><pre>RandomForestClassifier(criterion=&#x27;entropy&#x27;, n_estimators=200, random_state=0)</pre></div></div></div></div></div>"
            ]
          },
          "metadata": {},
          "execution_count": 68
        }
      ],
      "source": [
        "random_forest = RandomForestClassifier(n_estimators=200, criterion='entropy', random_state =0)\n",
        "random_forest.fit(X_train, Y_train)"
      ]
    },
    {
      "cell_type": "code",
      "execution_count": null,
      "metadata": {
        "id": "n9eirBKJBP9b"
      },
      "outputs": [],
      "source": [
        "predict_random_forest = random_forest.predict(X_test)"
      ]
    },
    {
      "cell_type": "code",
      "execution_count": null,
      "metadata": {
        "id": "d3Ra_ohpBdbs"
      },
      "outputs": [],
      "source": [
        "from sklearn.metrics import accuracy_score"
      ]
    },
    {
      "cell_type": "code",
      "execution_count": null,
      "metadata": {
        "id": "NyG4_A_tByHv"
      },
      "outputs": [],
      "source": [
        "accuracy = accuracy_score(Y_test, predict_random_forest)"
      ]
    },
    {
      "cell_type": "code",
      "execution_count": null,
      "metadata": {
        "colab": {
          "base_uri": "https://localhost:8080/"
        },
        "id": "Ekeyfd4NB9iG",
        "outputId": "77eac95a-5c6b-42a4-f3ab-20e2540e1f3d"
      },
      "outputs": [
        {
          "output_type": "execute_result",
          "data": {
            "text/plain": [
              "0.9259122059640674"
            ]
          },
          "metadata": {},
          "execution_count": 72
        }
      ],
      "source": [
        "accuracy"
      ]
    },
    {
      "cell_type": "code",
      "execution_count": null,
      "metadata": {
        "id": "M3nTIFpsN3uj"
      },
      "outputs": [],
      "source": [
        "import statsmodels.api as sm"
      ]
    },
    {
      "cell_type": "code",
      "execution_count": null,
      "metadata": {
        "id": "VrEMAdb8OdbL"
      },
      "outputs": [],
      "source": [
        "result=lr.fit(X_train_std,Y_train)"
      ]
    },
    {
      "cell_type": "code",
      "execution_count": null,
      "metadata": {
        "colab": {
          "base_uri": "https://localhost:8080/"
        },
        "id": "uHtEwalUOuIW",
        "outputId": "17245a90-a974-46b7-89e2-80f4ff9fc14e"
      },
      "outputs": [
        {
          "output_type": "stream",
          "name": "stdout",
          "text": [
            "Optimization terminated successfully.\n",
            "         Current function value: 0.362414\n",
            "         Iterations 7\n",
            "AIC: 15675.948504807191\n",
            "BIC: 15771.710554134876\n"
          ]
        }
      ],
      "source": [
        "import numpy as np\n",
        "import pandas as pd\n",
        "import statsmodels.api as sm\n",
        "from sklearn.model_selection import train_test_split\n",
        "\n",
        "# Assuming you have your data in X and y\n",
        "# Split the data into train and test sets\n",
        "X_train, X_test, y_train, y_test = train_test_split(X, y, test_size=0.2, random_state=42)\n",
        "\n",
        "# Fit logistic regression model\n",
        "logit_model = sm.Logit(y_train, sm.add_constant(X_train))\n",
        "result = logit_model.fit()\n",
        "\n",
        "# Calculate AIC and BIC\n",
        "aic = result.aic\n",
        "bic = result.bic\n",
        "\n",
        "print(\"AIC:\", aic)\n",
        "print(\"BIC:\", bic)"
      ]
    },
    {
      "cell_type": "code",
      "execution_count": null,
      "metadata": {
        "id": "UOMQwPVfPF3m"
      },
      "outputs": [],
      "source": [
        "from sklearn.neighbors import KNeighborsClassifier\n",
        "knn=KNeighborsClassifier()\n"
      ]
    },
    {
      "cell_type": "code",
      "execution_count": null,
      "metadata": {
        "colab": {
          "base_uri": "https://localhost:8080/",
          "height": 74
        },
        "id": "Sh0Y_EzxP07S",
        "outputId": "41366e36-270f-462c-dee4-ddfd8028791d"
      },
      "outputs": [
        {
          "output_type": "execute_result",
          "data": {
            "text/plain": [
              "KNeighborsClassifier()"
            ],
            "text/html": [
              "<style>#sk-container-id-4 {color: black;background-color: white;}#sk-container-id-4 pre{padding: 0;}#sk-container-id-4 div.sk-toggleable {background-color: white;}#sk-container-id-4 label.sk-toggleable__label {cursor: pointer;display: block;width: 100%;margin-bottom: 0;padding: 0.3em;box-sizing: border-box;text-align: center;}#sk-container-id-4 label.sk-toggleable__label-arrow:before {content: \"▸\";float: left;margin-right: 0.25em;color: #696969;}#sk-container-id-4 label.sk-toggleable__label-arrow:hover:before {color: black;}#sk-container-id-4 div.sk-estimator:hover label.sk-toggleable__label-arrow:before {color: black;}#sk-container-id-4 div.sk-toggleable__content {max-height: 0;max-width: 0;overflow: hidden;text-align: left;background-color: #f0f8ff;}#sk-container-id-4 div.sk-toggleable__content pre {margin: 0.2em;color: black;border-radius: 0.25em;background-color: #f0f8ff;}#sk-container-id-4 input.sk-toggleable__control:checked~div.sk-toggleable__content {max-height: 200px;max-width: 100%;overflow: auto;}#sk-container-id-4 input.sk-toggleable__control:checked~label.sk-toggleable__label-arrow:before {content: \"▾\";}#sk-container-id-4 div.sk-estimator input.sk-toggleable__control:checked~label.sk-toggleable__label {background-color: #d4ebff;}#sk-container-id-4 div.sk-label input.sk-toggleable__control:checked~label.sk-toggleable__label {background-color: #d4ebff;}#sk-container-id-4 input.sk-hidden--visually {border: 0;clip: rect(1px 1px 1px 1px);clip: rect(1px, 1px, 1px, 1px);height: 1px;margin: -1px;overflow: hidden;padding: 0;position: absolute;width: 1px;}#sk-container-id-4 div.sk-estimator {font-family: monospace;background-color: #f0f8ff;border: 1px dotted black;border-radius: 0.25em;box-sizing: border-box;margin-bottom: 0.5em;}#sk-container-id-4 div.sk-estimator:hover {background-color: #d4ebff;}#sk-container-id-4 div.sk-parallel-item::after {content: \"\";width: 100%;border-bottom: 1px solid gray;flex-grow: 1;}#sk-container-id-4 div.sk-label:hover label.sk-toggleable__label {background-color: #d4ebff;}#sk-container-id-4 div.sk-serial::before {content: \"\";position: absolute;border-left: 1px solid gray;box-sizing: border-box;top: 0;bottom: 0;left: 50%;z-index: 0;}#sk-container-id-4 div.sk-serial {display: flex;flex-direction: column;align-items: center;background-color: white;padding-right: 0.2em;padding-left: 0.2em;position: relative;}#sk-container-id-4 div.sk-item {position: relative;z-index: 1;}#sk-container-id-4 div.sk-parallel {display: flex;align-items: stretch;justify-content: center;background-color: white;position: relative;}#sk-container-id-4 div.sk-item::before, #sk-container-id-4 div.sk-parallel-item::before {content: \"\";position: absolute;border-left: 1px solid gray;box-sizing: border-box;top: 0;bottom: 0;left: 50%;z-index: -1;}#sk-container-id-4 div.sk-parallel-item {display: flex;flex-direction: column;z-index: 1;position: relative;background-color: white;}#sk-container-id-4 div.sk-parallel-item:first-child::after {align-self: flex-end;width: 50%;}#sk-container-id-4 div.sk-parallel-item:last-child::after {align-self: flex-start;width: 50%;}#sk-container-id-4 div.sk-parallel-item:only-child::after {width: 0;}#sk-container-id-4 div.sk-dashed-wrapped {border: 1px dashed gray;margin: 0 0.4em 0.5em 0.4em;box-sizing: border-box;padding-bottom: 0.4em;background-color: white;}#sk-container-id-4 div.sk-label label {font-family: monospace;font-weight: bold;display: inline-block;line-height: 1.2em;}#sk-container-id-4 div.sk-label-container {text-align: center;}#sk-container-id-4 div.sk-container {/* jupyter's `normalize.less` sets `[hidden] { display: none; }` but bootstrap.min.css set `[hidden] { display: none !important; }` so we also need the `!important` here to be able to override the default hidden behavior on the sphinx rendered scikit-learn.org. See: https://github.com/scikit-learn/scikit-learn/issues/21755 */display: inline-block !important;position: relative;}#sk-container-id-4 div.sk-text-repr-fallback {display: none;}</style><div id=\"sk-container-id-4\" class=\"sk-top-container\"><div class=\"sk-text-repr-fallback\"><pre>KNeighborsClassifier()</pre><b>In a Jupyter environment, please rerun this cell to show the HTML representation or trust the notebook. <br />On GitHub, the HTML representation is unable to render, please try loading this page with nbviewer.org.</b></div><div class=\"sk-container\" hidden><div class=\"sk-item\"><div class=\"sk-estimator sk-toggleable\"><input class=\"sk-toggleable__control sk-hidden--visually\" id=\"sk-estimator-id-4\" type=\"checkbox\" checked><label for=\"sk-estimator-id-4\" class=\"sk-toggleable__label sk-toggleable__label-arrow\">KNeighborsClassifier</label><div class=\"sk-toggleable__content\"><pre>KNeighborsClassifier()</pre></div></div></div></div></div>"
            ]
          },
          "metadata": {},
          "execution_count": 77
        }
      ],
      "source": [
        "knn.fit(X_train_std,Y_train)"
      ]
    },
    {
      "cell_type": "code",
      "execution_count": null,
      "metadata": {
        "id": "68Q-OtGDP94H"
      },
      "outputs": [],
      "source": [
        "Y_pred2=knn.predict(X_test_std)"
      ]
    },
    {
      "cell_type": "code",
      "execution_count": null,
      "metadata": {
        "colab": {
          "base_uri": "https://localhost:8080/"
        },
        "id": "L7fnUe-uQB0J",
        "outputId": "401c2972-2fe9-46cb-c206-df63b70dbb1f"
      },
      "outputs": [
        {
          "output_type": "execute_result",
          "data": {
            "text/plain": [
              "0.8742359696240044"
            ]
          },
          "metadata": {},
          "execution_count": 79
        }
      ],
      "source": [
        "ac_knn=accuracy_score(Y_test,Y_pred2)\n",
        "ac_knn"
      ]
    },
    {
      "cell_type": "code",
      "source": [],
      "metadata": {
        "id": "z8mvKvip787q"
      },
      "execution_count": null,
      "outputs": []
    }
  ],
  "metadata": {
    "colab": {
      "provenance": [],
      "include_colab_link": true
    },
    "kernelspec": {
      "display_name": "Python 3",
      "name": "python3"
    },
    "language_info": {
      "name": "python"
    }
  },
  "nbformat": 4,
  "nbformat_minor": 0
}